{
 "cells": [
  {
   "cell_type": "markdown",
   "metadata": {},
   "source": [
    "**Binomialkoeffizienten**\n",
    "\n",
    "Wie am Pascalschen Dreieck erkennbar, sind die Binomialkoeffizienten $\\begin{pmatrix}n\\\\k\\end{pmatrix}$ rekursiv definiert.\n",
    "\n",
    "Rekursion\n",
    "$$\n",
    "\\begin{pmatrix}n\\\\k\\end{pmatrix}=\\begin{pmatrix}n-1\\\\k-1\\end{pmatrix}+\\begin{pmatrix}n-1\\\\k\\end{pmatrix}\n",
    "$$\n",
    "\n",
    "Abbruchbedingungen\n",
    "$$\n",
    "\\begin{pmatrix}n\\\\0\\end{pmatrix}=1\\\\\n",
    "\\begin{pmatrix}n\\\\n\\end{pmatrix}=1\\\\\n",
    "\\begin{pmatrix}0\\\\0\\end{pmatrix}=1\n",
    "$$\n"
   ]
  },
  {
   "cell_type": "code",
   "execution_count": 1,
   "metadata": {},
   "outputs": [],
   "source": [
    "def binomialkoeff(n,k):\n",
    "    '''\n",
    "    Rekursive Berechnung der Binomialkoeffizienten\n",
    "    \n",
    "    Parameters\n",
    "    ----------\n",
    "    n : int\n",
    "    k : int\n",
    "\n",
    "    Returns\n",
    "    -------\n",
    "    Binomialkoeffizient n über k\n",
    "\n",
    "    '''\n",
    "    if type(n)!=int or type(n)!=int or k>n:\n",
    "        print('Falsche Eingabe: n und k müssen natürliche Zahlen sein, k darf nicht größer als n sein.')\n",
    "        return()\n",
    "    \n",
    "    if k==0:\n",
    "        binomi=1\n",
    "    elif n==0:\n",
    "        binomi=1\n",
    "    elif k==n:\n",
    "        binomi=1\n",
    "    else:\n",
    "        binomi=binomialkoeff(n-1,k-1)+binomialkoeff(n-1,k)\n",
    "    \n",
    "    return(binomi)\n",
    "\n"
   ]
  },
  {
   "cell_type": "markdown",
   "metadata": {},
   "source": [
    " Berechnen Sie mit der Funktion *binomialkoeff*:\n",
    "\n",
    "- $\\begin{pmatrix}12\\\\0\\end{pmatrix}$\n",
    "- $\\begin{pmatrix}4\\\\3\\end{pmatrix}$\n",
    "- $\\begin{pmatrix}25\\\\24\\end{pmatrix}$\n",
    "- $\\begin{pmatrix}8\\\\3\\end{pmatrix}$\n",
    "- $\\begin{pmatrix}26\\\\13\\end{pmatrix}$\n",
    "- $\\begin{pmatrix}32\\\\16\\end{pmatrix}$\n"
   ]
  },
  {
   "cell_type": "code",
   "execution_count": null,
   "metadata": {},
   "outputs": [],
   "source": [
    "\n",
    "\n",
    "\n",
    "\n"
   ]
  },
  {
   "cell_type": "markdown",
   "metadata": {},
   "source": [
    "Wir ändern die Funktion so, dass die Anzahl der Rekursionen gezählt und als Rückgabewert ausgegeben wird. Dazu wird eine globale Zählvariable definiert, die bei jeder Rekursion erhöht wird. \n",
    "\n"
   ]
  },
  {
   "cell_type": "code",
   "execution_count": 3,
   "metadata": {},
   "outputs": [],
   "source": [
    "def binomialkoeffR(n,k):\n",
    "    '''\n",
    "     Rekursive Berechnung der Binomialkoeffizienten mit Zählung der Rekursionen\n",
    "     \n",
    "    Parameters\n",
    "    ----------\n",
    "    n : int\n",
    "    k : int\n",
    "\n",
    "    Returns\n",
    "    -------\n",
    "    Binomialkoeffizient n über k\n",
    "\n",
    "    '''\n",
    "    global countR\n",
    "    if type(n)!=int or type(n)!=int or k>n:\n",
    "        print('Falsche Eingabe: n und k müssen natürliche Zahlen sein, k darf nicht größer als n sein.')\n",
    "        return()\n",
    "    \n",
    "    if k==0:\n",
    "        binomi=1\n",
    "    elif n==0:\n",
    "        binomi=1\n",
    "    elif k==n:\n",
    "        binomi=1\n",
    "    else:\n",
    "        binomi=binomialkoeffR(n-1,k-1)+binomialkoeffR(n-1,k)\n",
    "        countR+=1\n",
    "    \n",
    "    return(binomi)\n"
   ]
  },
  {
   "cell_type": "markdown",
   "metadata": {},
   "source": [
    "Wie viele Rekursionen werden zur Berechnung von  $\\begin{pmatrix}5\\\\3\\end{pmatrix}$ benötigt? Erklären Sie das Ergebnis."
   ]
  },
  {
   "cell_type": "code",
   "execution_count": null,
   "metadata": {},
   "outputs": [],
   "source": [
    "\n"
   ]
  },
  {
   "cell_type": "markdown",
   "metadata": {},
   "source": [
    "Implementieren Sie eine **iterative** Berechnung des Binomialkoeffizienten. Verwenden Sie zur iterativen Berechnung folgendes:\n",
    "$$\n",
    " \\begin{pmatrix}n\\\\k\\end{pmatrix}=\\frac{n}{1}\\cdot \\frac{n-1}{2}\\cdot \\dots \\frac{n-k+1}{k}\n",
    "$$"
   ]
  },
  {
   "cell_type": "code",
   "execution_count": null,
   "metadata": {},
   "outputs": [],
   "source": [
    "def binomialkoeffIter(n,k):\n",
    "    '''\n",
    "    Iterative Berechnung der Binomialkoeffizienten\n",
    "    \n",
    "    Parameters\n",
    "    ----------\n",
    "    n : int\n",
    "    k : int\n",
    "\n",
    "    Returns\n",
    "    -------\n",
    "    Binomialkoeffizient n über k\n",
    "\n",
    "    '''\n",
    "    if type(n)!=int or type(n)!=int or k>n:\n",
    "        print('Falsche Eingabe: n und k müssen natürliche Zahlen sein, k darf nicht größer als n sein.')\n",
    "        return()\n",
    "    \n",
    "\n",
    "\n",
    "\n",
    "    "
   ]
  },
  {
   "cell_type": "markdown",
   "metadata": {},
   "source": [
    " Berechnen Sie mit der Funktion *binomialkoefIter*:\n",
    "\n",
    "- $\\begin{pmatrix}12\\\\0\\end{pmatrix}$\n",
    "- $\\begin{pmatrix}4\\\\3\\end{pmatrix}$\n",
    "- $\\begin{pmatrix}25\\\\24\\end{pmatrix}$\n",
    "- $\\begin{pmatrix}8\\\\3\\end{pmatrix}$\n",
    "- $\\begin{pmatrix}26\\\\13\\end{pmatrix}$\n",
    "- $\\begin{pmatrix}32\\\\16\\end{pmatrix}$\n"
   ]
  },
  {
   "cell_type": "code",
   "execution_count": null,
   "metadata": {},
   "outputs": [],
   "source": [
    "\n",
    "\n",
    "\n"
   ]
  },
  {
   "cell_type": "markdown",
   "metadata": {},
   "source": [
    "Im Python Package *math* berechnet die Funktion *comb* den Binomialkoeffizienten. Überprüfen Sie Ihre Ergebnisse  mit *math.comb*. "
   ]
  },
  {
   "cell_type": "code",
   "execution_count": null,
   "metadata": {},
   "outputs": [],
   "source": [
    "\n"
   ]
  }
 ],
 "metadata": {
  "kernelspec": {
   "display_name": "base",
   "language": "python",
   "name": "python3"
  },
  "language_info": {
   "codemirror_mode": {
    "name": "ipython",
    "version": 3
   },
   "file_extension": ".py",
   "mimetype": "text/x-python",
   "name": "python",
   "nbconvert_exporter": "python",
   "pygments_lexer": "ipython3",
   "version": "3.11.4"
  }
 },
 "nbformat": 4,
 "nbformat_minor": 2
}
