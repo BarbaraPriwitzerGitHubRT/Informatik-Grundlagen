{
 "cells": [
  {
   "cell_type": "markdown",
   "metadata": {},
   "source": [
    "### Dictionaries"
   ]
  },
  {
   "cell_type": "code",
   "execution_count": 1,
   "metadata": {},
   "outputs": [],
   "source": [
    "teams = {\"München\": \"Bayern\", \"Stuttgart\": \"VfB\", \"Berlin\": \"Union\", \"Dortmund\": \"BVB\", \"Leipzig\":\"RB\"}"
   ]
  },
  {
   "cell_type": "markdown",
   "metadata": {},
   "source": [
    "**Aufgaben**\n",
    "Beantworten Sie folgende Fragen mit Python:\n",
    "1. Wie heißt das Team in Berlin?\n",
    "2. Zu welcher Stadt gehört RB?\n",
    "3. Wieviele Teams sind im Dictionary?\n",
    "4. Fügen Sie zum Dictionary noch Schalke 04 aus Gelsenkirchen hinzu.\n",
    "5. Lassen Sie sich alle Mannschaftsnamen des Dictionaries ausgeben.\n",
    "6. Wie können Sie Hertha BSC aus Berlin im Dictionary ergänzen?"
   ]
  },
  {
   "cell_type": "code",
   "execution_count": null,
   "metadata": {},
   "outputs": [],
   "source": []
  }
 ],
 "metadata": {
  "kernelspec": {
   "display_name": "base",
   "language": "python",
   "name": "python3"
  },
  "language_info": {
   "codemirror_mode": {
    "name": "ipython",
    "version": 3
   },
   "file_extension": ".py",
   "mimetype": "text/x-python",
   "name": "python",
   "nbconvert_exporter": "python",
   "pygments_lexer": "ipython3",
   "version": "3.11.4"
  }
 },
 "nbformat": 4,
 "nbformat_minor": 2
}
