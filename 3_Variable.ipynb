{
 "cells": [
  {
   "cell_type": "markdown",
   "metadata": {},
   "source": [
    "## Datentypen, Variable und Konstante\n",
    "\n",
    "**Teil 1**\n",
    "\n",
    "In Python lässt sich der Datentyp durch *type()* abfragen. Zu beachten ist außerdem, dass Python den Datentyp einer Variable bzw. Konstante automatisch erkennt.\n",
    "\n",
    "**Aufgabe**\n",
    "\n",
    "Sagen Sie jeweils die Konsolenausgabe voraus und testen Sie dann die tatsächliche Ausgabe."
   ]
  },
  {
   "cell_type": "code",
   "execution_count": null,
   "metadata": {},
   "outputs": [],
   "source": [
    "a=2\n",
    "print(type(a))\n",
    "a=a/3\n",
    "print(type(a))\n",
    "print(type('wort'))\n",
    "print(type(True))\n",
    "print(type('a'))\n"
   ]
  },
  {
   "cell_type": "markdown",
   "metadata": {},
   "source": [
    "Bei einer Menge ist die Reihenfolge der Elemente unwichtig, im Gegensatz zu eine Tupel (z.B. Paar):"
   ]
  },
  {
   "cell_type": "code",
   "execution_count": 1,
   "metadata": {},
   "outputs": [
    {
     "name": "stdout",
     "output_type": "stream",
     "text": [
      "<class 'set'>\n"
     ]
    },
    {
     "data": {
      "text/plain": [
       "False"
      ]
     },
     "execution_count": 1,
     "metadata": {},
     "output_type": "execute_result"
    }
   ],
   "source": [
    "print(type({2,'a'}))\n",
    "print({2,'a'}=={'a',2})\n",
    "print((2,'a')==('a',2))"
   ]
  },
  {
   "cell_type": "markdown",
   "metadata": {},
   "source": [
    "\n",
    "\n",
    "**Beispiel**\n",
    "\n",
    "In einem Programm soll der Wert zweier Variablen vertauscht werden (z. B. *a = 2, b = 3* soll geändert werden zu *a = 3, b = 2*). Warum funktioniert dies nicht mit nachfolgendem Programmstück? Ändern Sie den Code so, dass *a* und *b* tatsächlich ihre Werte tauschen."
   ]
  },
  {
   "cell_type": "code",
   "execution_count": null,
   "metadata": {},
   "outputs": [],
   "source": [
    "a=3\n",
    "b=2\n",
    "\n",
    "a=b\n",
    "b=a\n",
    "\n",
    "\n",
    "print('a ist ' ,a)\n",
    "print('b ist ' ,b)"
   ]
  },
  {
   "cell_type": "markdown",
   "metadata": {},
   "source": [
    "**Teil 2**\n",
    "\n",
    "**Implizite Typumwandlung**\n",
    "\n",
    "Diese wird automatisch durch den Compiler vorgenommen, wenn der Wert der Variablen überschrieben wird:"
   ]
  },
  {
   "cell_type": "code",
   "execution_count": null,
   "metadata": {},
   "outputs": [],
   "source": [
    "a = False\n",
    "print(type(a))\n",
    "a='hallo'\n",
    "print(type(a))\n",
    "a=2\n",
    "print(type(a))\n",
    "a=a/1\n",
    "print(type(a))"
   ]
  },
  {
   "cell_type": "markdown",
   "metadata": {},
   "source": [
    "**Explizite Typumwandlung**\n",
    "\n",
    "Explizite Typumwandlung wird im Programmcode ausdrücklich geschrieben. Dazu\n",
    "wird der Name des gewünschten Typs geklammert vor den zu konvertierenden\n",
    "Ausdruck gestellt:"
   ]
  },
  {
   "cell_type": "code",
   "execution_count": null,
   "metadata": {},
   "outputs": [],
   "source": [
    "a = 9\n",
    "print(type(a))\n",
    "a=float(a)\n",
    "print(type(a))\n",
    "a=str(a)\n",
    "print(type(a))\n",
    "print('a ist ' + str(a)+', ich mag a.')"
   ]
  },
  {
   "cell_type": "markdown",
   "metadata": {},
   "source": [
    "Diese explizite Typumwandlung ist jedoch nicht in allen Fällen möglich: Testen Sie aus, welche der Typen *int, float, str, bool* sich ineinander umwandeln lassen."
   ]
  },
  {
   "cell_type": "code",
   "execution_count": null,
   "metadata": {},
   "outputs": [],
   "source": [
    "a =7\n",
    "print(type(a))\n",
    "a=int(a)\n",
    "\n",
    "b='a'\n",
    "print(type(b))\n",
    "b=float(b)"
   ]
  },
  {
   "cell_type": "markdown",
   "metadata": {},
   "source": [
    "**Zuweisungsoperator**\n",
    "\n",
    "Den Zuweisungsoperator *=*, der einer Variablen einen Wert zuweist, haben wir schon häufig verwendet. Der Wert auf der rechten Seite wird in den Speicherplatz auf der linken Seite kopiert. Auf der rechten Seite können beliebige Ausdrücke stehen. Auf der linken Seite einer Zuweisung muss der Name einer Variable oder Konstante stehen.\n",
    "\n",
    "Der folgende Ausdruck liefert einen Syntaxfehler, da auf der linken Seite kein Speicherobjekt\n",
    "steht.\n",
    "\n"
   ]
  },
  {
   "cell_type": "code",
   "execution_count": 14,
   "metadata": {},
   "outputs": [],
   "source": [
    "#falsche Verwendung des Zuweisungsoperators\n",
    "5 = a\n",
    "\n"
   ]
  },
  {
   "cell_type": "markdown",
   "metadata": {},
   "source": [
    "**Arithmetische Operatoren**\n",
    "\n",
    "Mit Hilfe von arithmetischen Operatoren können die üblichen mathematischen Operationen durchgeführt werden. Wie die meisten Programmiersprachen verfügt Python noch über weitere Zuweisungsoperatoren, die arithmetische Operationen integrieren:\n"
   ]
  },
  {
   "cell_type": "code",
   "execution_count": 15,
   "metadata": {},
   "outputs": [],
   "source": [
    "a=-3\n",
    "print(type(a))\n",
    "a**=4\n",
    "print(a)"
   ]
  },
  {
   "cell_type": "markdown",
   "metadata": {},
   "source": [
    "**Aufgabe**\n",
    "\n",
    "Für welche Integer-Werte *a* haben folgende Verknüpfungen den Wert *True*? Testen Sie verschiedene Zuweisungen."
   ]
  },
  {
   "cell_type": "code",
   "execution_count": 17,
   "metadata": {},
   "outputs": [],
   "source": [
    "a=\n",
    "(a<3 or a>10) and (a//2<5)\n"
   ]
  },
  {
   "cell_type": "code",
   "execution_count": 18,
   "metadata": {},
   "outputs": [],
   "source": [
    "a=\n",
    "(a%4==2) and (a<20) and (a>=5)"
   ]
  },
  {
   "cell_type": "code",
   "execution_count": 19,
   "metadata": {},
   "outputs": [],
   "source": [
    "a=\n",
    "not(a**2>10) or (a*a==1)"
   ]
  },
  {
   "cell_type": "markdown",
   "metadata": {},
   "source": [
    "**Prioritäten von Operatoren**\n",
    "\n",
    "Von höchster zu niedrigster Priorität ergibt sich folgende Rangfolge\n",
    "1. arithmetischer Operator\n",
    "2. Vergleichsoperator\n",
    "3. logischer Operator\n",
    "4. arithmetischer Zuweisungsoperator\n",
    "\n",
    "Was ergibt sich jeweils?"
   ]
  },
  {
   "cell_type": "code",
   "execution_count": null,
   "metadata": {},
   "outputs": [],
   "source": [
    "# Vergleichsoperator und logischer Operator\n",
    "a = 0 \n",
    "print(a == a or 1)\n",
    "\n",
    "# arithmetischer Operator und logischer Operator\n",
    "a = 1\n",
    "print(a or 0 + 1)\n",
    "\n",
    "# arithmetischer Operator und  arithmetischer Zuweisungsoperator\n",
    "a = 2\n",
    "a *= 5 + 5\n",
    "print(a)\n",
    "\n",
    "# arithmetischer Zuweisungssoperator und Vergleichsoperator\n",
    "a = 2\n",
    "a += a == 2 \n",
    "print(a)\n",
    "\n",
    "# arithmetischer Operator und Vergleichsoperator\n",
    "a = 2\n",
    "print(a == 2 + 5)\n",
    "\n",
    "# arithmetischer Zuweisungssoperator und logischer Operator\n",
    "a = 1\n",
    "a += 1 and a\n",
    "print(a)"
   ]
  },
  {
   "cell_type": "markdown",
   "metadata": {},
   "source": [
    "**Teil 3**\n",
    "\n",
    "**Konsolenausgaben von Variablenwerten**\n",
    "\n",
    "Bei einer Konsolen-Ausgaben von Variablenwerten in Python durch  *print*  muss auch immer das Format angegeben werden:\n",
    "\n",
    "- *%s* für Strings: *print('%s' %name)*\n",
    "- *%d* für Integers: *print('%d' %age)*\n",
    "- *%f* \tfür Dezimalzahlen (Gleitkommazahlen): *print('%f' %math.pi)*; hierbei kann angegeben werden, wieviele Stellen der Zahl ausgegeben werden sollen:  *%.3f* bedeutet, dass auf 3 Ziffern nach dem Dezimalpunkt gerundet wird. \n",
    "\n"
   ]
  },
  {
   "cell_type": "code",
   "execution_count": 4,
   "metadata": {},
   "outputs": [
    {
     "name": "stdout",
     "output_type": "stream",
     "text": [
      "Ich heiße Toni\n",
      "Ich bin 20 Jahre alt.\n",
      "Meine Lieblingszahl ist 3.141593.\n",
      "Meine Lieblingszahl ist 3.142.\n",
      "Ich heiße Toni, bin 20 Jahre alt und meine Lieblingszahl ist 3.142.\n"
     ]
    }
   ],
   "source": [
    "name='Toni'\n",
    "print('Ich heiße %s' %name)\n",
    "\n",
    "age = 20\n",
    "print('Ich bin %d Jahre alt.'%age)\n",
    "\n",
    "import math\n",
    "print('Meine Lieblingszahl ist %f.' %math.pi)\n",
    "\n",
    "print('Meine Lieblingszahl ist %.3f.' %math.pi)\n",
    "\n",
    "#Verwendung mehrere Format Codes\n",
    "print('Ich heiße %s, bin %d Jahre alt und meine Lieblingszahl ist %.3f.' %(name,age,math.pi))"
   ]
  },
  {
   "cell_type": "markdown",
   "metadata": {},
   "source": [
    "**Aufgabe**\n",
    "\n",
    "Belegen Sie Variablen mit Ihrem Namen, Ihrer Körpergröße und Ihrer Postleitzahl und lassen Sie diese mit verbindendem Text auf der Konsole ausgeben."
   ]
  }
 ],
 "metadata": {
  "kernelspec": {
   "display_name": "Python 3 (ipykernel)",
   "language": "python",
   "name": "python3"
  },
  "language_info": {
   "codemirror_mode": {
    "name": "ipython",
    "version": 3
   },
   "file_extension": ".py",
   "mimetype": "text/x-python",
   "name": "python",
   "nbconvert_exporter": "python",
   "pygments_lexer": "ipython3",
   "version": "3.11.4"
  }
 },
 "nbformat": 4,
 "nbformat_minor": 2
}
