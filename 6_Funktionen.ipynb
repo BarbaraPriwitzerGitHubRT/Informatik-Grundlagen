{
 "cells": [
  {
   "cell_type": "markdown",
   "metadata": {},
   "source": [
    "**Funktionen in Python**\n",
    "\n",
    "**Funktionskopf** \n",
    "\n",
    "*def myName(myInput):*\n",
    "\n",
    "besteht aus \n",
    "\n",
    "- dem Signalwort für eine Funktion  *def*\n",
    "- dem  Funktionsnamen, den Sie selbst wählen können; der Funktionsname darf keine Sonderzeichen wie / der \\% oder Leerzeichen enthalten\n",
    "- den Eingabeparametern, die in runden Klammern direkt auf den Funktiosnamen folgen\n",
    "- einem Doppelpunkt (nicht vergessen!)\n",
    "\n",
    "**Funktionsrumpf**\n",
    "- alles nach dem Funktionskopf\n",
    "- folgt eingerückt auf den Funktionskopf (Einrücken nicht vergessen!)\n",
    "- der Rückgabewert wird über das Signalwort *return* definiert.\n"
   ]
  },
  {
   "cell_type": "code",
   "execution_count": 4,
   "metadata": {},
   "outputs": [],
   "source": [
    "def summe(start,end):                # Funktionskopf mit Schlüsselwort def, Name, Eingabeparametern, Doppelpunkt\n",
    "    wert=0                           # Start Funktionsrumpf\n",
    "    for i in range(start,end+1):\n",
    "        wert=wert+i\n",
    "    return(wert) # Ende Funktionsrumpf mit Rückgabewert\n",
    "\n"
   ]
  },
  {
   "cell_type": "markdown",
   "metadata": {},
   "source": [
    "Die so von Ihnen definierte Funktion können Sie dann durch ihren Namen und konkrete Werte für die Eingabeparameter aufrufen. Dem Rückgabewert können Sie dann wieder einen Namen Ihrer Wahl geben."
   ]
  },
  {
   "cell_type": "code",
   "execution_count": null,
   "metadata": {},
   "outputs": [],
   "source": [
    "ergebnis=summe(4,13)\n",
    "print(ergebnis)\n",
    "\n",
    "erg = summe(3,7)\n",
    "print(erg)\n",
    "\n"
   ]
  },
  {
   "cell_type": "markdown",
   "metadata": {},
   "source": [
    "**Aufgabe**\n",
    "\n",
    "Schreiben Sie eine Funktion, die das Produkt von natürlichen Zahlen zwischen den Eingabewerte *start* und *end* berechnet und zurückgibt."
   ]
  },
  {
   "cell_type": "code",
   "execution_count": 1,
   "metadata": {},
   "outputs": [],
   "source": []
  },
  {
   "cell_type": "markdown",
   "metadata": {},
   "source": [
    "**Beispiele für Funktionen**"
   ]
  },
  {
   "cell_type": "markdown",
   "metadata": {},
   "source": [
    "Isolierter Aufruf"
   ]
  },
  {
   "cell_type": "code",
   "execution_count": null,
   "metadata": {},
   "outputs": [],
   "source": [
    "def ausgabeString(s):\n",
    "    print(\"Der Name lautet\", str(s))\n",
    "\n",
    "ausgabeString('Leo')"
   ]
  },
  {
   "cell_type": "markdown",
   "metadata": {},
   "source": [
    "Aufruf mit einer Zuweisung"
   ]
  },
  {
   "cell_type": "code",
   "execution_count": null,
   "metadata": {},
   "outputs": [],
   "source": [
    "def flaecheRechteck(a, b):\n",
    "    return a * b\n",
    "\n",
    "A=flaecheRechteck(10.3, 4.4)\n",
    "print(\"Flaeche: %.2f \"%A)"
   ]
  },
  {
   "cell_type": "markdown",
   "metadata": {},
   "source": [
    "Aufruf in einem Ausdruck"
   ]
  },
  {
   "cell_type": "code",
   "execution_count": null,
   "metadata": {},
   "outputs": [],
   "source": [
    "from math import sqrt \n",
    "\n",
    "def dist(xa,ya,xb,yb): \n",
    "    \"\"\"dist - Berechnet den Abstand zweier Punkte. \n",
    "    Übergabeparameter sind \n",
    "    xa,ya (erster Punkt) und xb,yb (zweiter Punkt)\"\"\"\n",
    "    abstand = sqrt((xa-xb)**2+(ya-yb)**2) \n",
    "    return abstand\n",
    "# Punkt 1 \n",
    "x1 = 1.0; y1 = 0.0\n",
    "# Punkt 2\n",
    "x2 = 0.5; y2 = 0.5\n",
    "\n",
    "if (dist(x1,y1,x2,y2)<1):\n",
    "    print('Die Punkte haben einen Abstand kleiner als 1.')\n",
    "\n",
    "        "
   ]
  },
  {
   "cell_type": "markdown",
   "metadata": {},
   "source": [
    "**Aufgabe**\n",
    "\n",
    "Verwenden Sie die Funktion *summe* von oben\n",
    "- in einem isolierten Aufruf\n",
    "- mit einer Zuweisung\n",
    "- in einem Ausdruck"
   ]
  },
  {
   "cell_type": "code",
   "execution_count": null,
   "metadata": {},
   "outputs": [],
   "source": []
  },
  {
   "cell_type": "markdown",
   "metadata": {},
   "source": [
    "**Eingabeparameter einer Funktion**\n",
    "\n",
    "Besitzt eine Funktion keine Eingabeparameter, so wird an den Funktionsnamen\n",
    "ein Paar runde Klammern angehängt: *funktionsname()*\n",
    "\n"
   ]
  },
  {
   "cell_type": "code",
   "execution_count": 19,
   "metadata": {},
   "outputs": [
    {
     "name": "stdout",
     "output_type": "stream",
     "text": [
      "Hallo, wie heißt Du?\n"
     ]
    }
   ],
   "source": [
    "def ohneInput():\n",
    "    print('Hallo, wie heißt Du?')\n",
    "    \n",
    "ohneInput()"
   ]
  },
  {
   "cell_type": "markdown",
   "metadata": {},
   "source": [
    "Sie können beliebig viele Parameter an die Funktion übergeben.  Beim Aufruf einer Funktion mit Parametern finden Zuweisungen statt, d.h. die Variablennamen in der Definition der Funktion erhalten die Werte, die beim Aufruf der Funktion entweder als Zahlen oder über Variablen angegeben werden."
   ]
  },
  {
   "cell_type": "code",
   "execution_count": 12,
   "metadata": {},
   "outputs": [
    {
     "name": "stdout",
     "output_type": "stream",
     "text": [
      "Variable a hat den Wert Hund\n",
      "Variable b hat den Wert Katze\n",
      "Variable c hat den Wert Maus\n",
      "Variable d hat den Wert Hase\n",
      "Variable e hat den Wert Igel\n"
     ]
    }
   ],
   "source": [
    "def ausgabe(a,b,c,d,e):\n",
    "    print('Variable a hat den Wert '+str(a))\n",
    "    print('Variable b hat den Wert '+str(b))\n",
    "    print('Variable c hat den Wert '+str(c))\n",
    "    print('Variable d hat den Wert '+str(d))\n",
    "    print('Variable e hat den Wert '+str(e))\n",
    "\n",
    "ausgabe('Hund','Katze','Maus','Hase','Igel')"
   ]
  },
  {
   "cell_type": "markdown",
   "metadata": {},
   "source": [
    "**Default - Werte**\n",
    "\n",
    "Optionale Parameter stehen am Ende der Parameterliste mit einem initialisierten Default-Wert."
   ]
  },
  {
   "cell_type": "code",
   "execution_count": null,
   "metadata": {},
   "outputs": [],
   "source": [
    "def summe(a, b, c=0, d=0): # Default - Werte für c und d\n",
    "    return a + b + c + d\n",
    "#Aufruf mit 2,3, oder 4 Eingabeparametern\n",
    "#summe(1,2)\n",
    "summe(1,2,3)\n",
    "#summe(1,2,3,4)\n"
   ]
  },
  {
   "cell_type": "markdown",
   "metadata": {},
   "source": [
    "***args**\n",
    "\n",
    "Eine beliebige Anzahl von Parametern wird durch einen Parameter mit einem\n",
    "Stern vor dem Namen gekennzeichnet. Es darf nur ein einziger\n",
    "$*$-Parameter am Ende der Parameterliste der Funktion vorkommen."
   ]
  },
  {
   "cell_type": "code",
   "execution_count": null,
   "metadata": {},
   "outputs": [],
   "source": [
    "#beliebige Anzahl von Eingabeparametern\n",
    "def summe(a, *b):\n",
    "    return a + sum(b)\n",
    "\n",
    "#Aufruf\n",
    "summe(2)\n",
    "#summe(1,2,3)\n",
    "#summe(1,2,3,4)\n",
    "#summe(1,2,3,4,5,6,7,8,9)\n"
   ]
  },
  {
   "cell_type": "markdown",
   "metadata": {},
   "source": [
    "**Aufgabe**\n",
    "\n",
    "Schreiben Sie eine Funktion, die den Mittelwert von beliebig vielen Zahlen berechnet. Verwenden Sie diese Funktion mit einer Zuweisung."
   ]
  },
  {
   "cell_type": "code",
   "execution_count": null,
   "metadata": {},
   "outputs": [],
   "source": []
  },
  {
   "cell_type": "markdown",
   "metadata": {},
   "source": [
    "****kwargs (Keyword arguments)**\n",
    "\n",
    " Mit **kwargs  können  Dictionaries an eine Funktion übergeben werden. Die Übergabe von ***kwargs*-Eingabeparametern ist jedoch auch möglich ohne explizit ein Dictionary zu definieren. Es können auch Schlüssel und Werte direkt übergeben werden."
   ]
  },
  {
   "cell_type": "code",
   "execution_count": null,
   "metadata": {},
   "outputs": [],
   "source": [
    "def print_keyword_args(**kwargs):\n",
    "     # kwargs ist ein dictionary \n",
    "     for key, value in kwargs.items():\n",
    "        print( \"%s = %s\" % (key, value))\n",
    "\n",
    "# Aufruf mit keys \n",
    "print_keyword_args(vorname=\"Romeo\", nachname=\"Montague\")\n",
    "\n",
    "#Aufruf mit Dictionary\n",
    "julia={\"vorname\": \"Julia\", \"nachname\":\"Capulet\"}\n",
    "print_keyword_args(**julia)"
   ]
  },
  {
   "cell_type": "markdown",
   "metadata": {},
   "source": [
    "Werden sowohl **args* als auch ***kwargs* verwendet, so muss bei den Eingabeparametern zuerst **args*, dann ***kwargs* angegeben werden.\n",
    "\n",
    "Python bündelt Werte, die an *args übergeben werden, in einem Tupel, und Werte, die an **kwargs übergeben werden, in einem Dictionary.\n"
   ]
  },
  {
   "cell_type": "code",
   "execution_count": null,
   "metadata": {},
   "outputs": [],
   "source": [
    "def myFun(*args, **kwargs):\n",
    "    print(\"args: \", args)\n",
    "    print(\"kwargs: \", kwargs)\n",
    " \n",
    "\n",
    "# Aufruf ist möglich für args und kwargs\n",
    "myFun(\"Romeo\", \"Montague\", vorname=\"Julia\", nachname=\"Capulet\")\n",
    "\n",
    "# oder nur kwargs\n",
    "julia={\"vorname\": \"Julia\", \"nachname\":\"Capulet\"}\n",
    "myFun(**julia)\n",
    "\n",
    "# oder nur args\n",
    "myFun(\"Romeo\", \"Montague\")"
   ]
  },
  {
   "cell_type": "markdown",
   "metadata": {},
   "source": [
    "Auch Eingabeparameter, **args* und ***kwargs* sind möglich, dabei muss aber diese Reihenfolge eingehalten werden:"
   ]
  },
  {
   "cell_type": "code",
   "execution_count": null,
   "metadata": {},
   "outputs": [],
   "source": [
    "def print_alles(arg1, *args, **kwargs):\n",
    "    print(arg1)     # arg1\n",
    "    print(args)     # Tupel\n",
    "    print(kwargs)   # Dictionary\n",
    "    print(arg1, *args, **kwargs) \n",
    "\n",
    "#print_alles('one', 'two', 'three', end='!\\n', sep='--')\n",
    "# arg1 = 'one'\n",
    "# *args = 'two', 'three'\n",
    "# **kwargs = end='!\\n', sep='--' - Schlüsselwörter für String Printing im letzten Printaufruf\n",
    "\n",
    "#print_alles('one')\n",
    "#print_alles('one', 'two')\n",
    "#print_alles('one', 'two', 'three')\n",
    "#print_alles('one', 'two', 'three', start='hu')"
   ]
  },
  {
   "cell_type": "markdown",
   "metadata": {},
   "source": [
    "**Aufgabe**\n",
    "\n",
    " Schreiben Sie eine Funktion namens \"rechnung_erstellen\", die eine Rechnung mit den gegebenen Argumenten (Produkt und Preis) und den optionalen\n",
    " Schlüsselwortargumenten (Rabatt und Steuersatz) erstellt.\n",
    "\n",
    " Die Funktion soll die Gesamtsumme der Rechnung berechnen, wobei der Rabatt\n",
    " vom Preis abgezogen und die Steuer hinzugefügt wird.\n",
    "\n",
    "Verwenden Sie **kwargs, um die optionalen Schlüsselwortargumente zu akzeptieren.\n",
    "\n",
    "Beispielaufruf:\n",
    "\n",
    "rechnung_erstellen(\"Laptop\", 800, rabatt=50, steuersatz=0.19)\n",
    "\n",
    "Ausgabe:\n",
    "\n",
    "Produkt: Laptop\n",
    "\n",
    "Preis: 800\n",
    "\n",
    "Rabatt: 50\n",
    "\n",
    "Steuersatz: 0.19\n",
    "\n",
    "Gesamtsumme: 892.5"
   ]
  },
  {
   "cell_type": "code",
   "execution_count": null,
   "metadata": {},
   "outputs": [
    {
     "name": "stdout",
     "output_type": "stream",
     "text": [
      "Produkt: Laptop\n",
      "Preis: 800\n",
      "Rabatt: 50\n",
      "Steuersatz: 0.19\n",
      "Gesamtsumme: 892.5\n"
     ]
    }
   ],
   "source": []
  },
  {
   "cell_type": "markdown",
   "metadata": {},
   "source": [
    "**Rückgabewerte einer Funktion**\n",
    "\n",
    "Die optionale Anweisung *return* gibt den Wert oder die Werte hinter diesem Schlüsselwort\n",
    "an den Aufrufer der Funktion zurück. Das Programm kehrt dann zum Funktionsaufruf\n",
    "zurück und arbeitet anschließend die nächste Anweisung ab.\n",
    "\n",
    "\n",
    "(1) Mehrere Rückgabewerte können durch eine Liste zurückgegeben werden."
   ]
  },
  {
   "cell_type": "code",
   "execution_count": 5,
   "metadata": {},
   "outputs": [
    {
     "data": {
      "text/plain": [
       "1.118033988749895"
      ]
     },
     "execution_count": 5,
     "metadata": {},
     "output_type": "execute_result"
    }
   ],
   "source": [
    "from numpy import abs, max\n",
    "from math import sqrt \n",
    "\n",
    "\n",
    "\n",
    "def dist3(xa,ya,xb,yb): \n",
    "    \"\"\"dist - Berechnet den Abstand zweier Punkte. \n",
    "    Eingabeparameter sind xa,ya (erster Punkt) \n",
    "    und xb,yb (zweiter Punkt)\"\"\"\n",
    "    abstandE = sqrt((xa-xb)**2+(ya-yb)**2)     # euklidischer Abstand\n",
    "    abstandM = abs(xa-xb)+abs(ya-yb)           # Manhattan Abstand\n",
    "    abstandMax = max([abs(xa-xb),abs(ya-yb)])  # Maximum-Abstand\n",
    "    return [abstandE, abstandM, abstandMax]\n",
    "\n",
    "# Punkt 1 \n",
    "x1 = 0.0; y1 = 0.0\n",
    "# Punkt 2\n",
    "x2 = 0.5; y2 = 1\n",
    "a=dist3(x1,y1,x2,y2)\n",
    "a[0]\n"
   ]
  },
  {
   "cell_type": "markdown",
   "metadata": {},
   "source": [
    "(2) Funktionen ohne Rückgabewerte beinhalten in der Regel Konsolenausgaben (*print*) oder Graphiken.\n"
   ]
  },
  {
   "cell_type": "code",
   "execution_count": 34,
   "metadata": {},
   "outputs": [
    {
     "name": "stdout",
     "output_type": "stream",
     "text": [
      "Das Rechteck hat Fläche 15.000 und Umfang 16.000.\n",
      "\n"
     ]
    }
   ],
   "source": [
    "def Rechteck(a, b):\n",
    "    F= a * b\n",
    "    U=2*(a+b)\n",
    "    print(\"Das Rechteck hat Fläche %.3f und Umfang %.3f.\\n\"%(F,U))\n",
    "    \n",
    "Rechteck(3,5)\n"
   ]
  },
  {
   "cell_type": "markdown",
   "metadata": {},
   "source": [
    "**Aufgabe**\n",
    "\n",
    "Schreiben Sie eine Funktion *wurzel* mit einer reellen Zahl als Eingabeparameter, die als Rückgabewerte für positive Zahlen die positive und die negative Wurzel hat, für 0 die null und für negative Zahlen eine Konsolenausgabe, dass keine Wurzel existiert.\n",
    "\n",
    "Hinweis: Das Package *math* (Laden des Packages durch *import math*) berechnet die (positive) Quadratwurzel einer Zahl x durch *math.sqrt(x)*."
   ]
  },
  {
   "cell_type": "code",
   "execution_count": null,
   "metadata": {},
   "outputs": [],
   "source": []
  },
  {
   "cell_type": "markdown",
   "metadata": {},
   "source": [
    "**Globale und lokale Variable**\n",
    "\n",
    " Variablen, die innerhalb von Funktionen definiert sind, heißen **lokale Variable**.\n",
    "Für lokale Variable gilt:\n",
    "\n",
    "- Lokale Variable sind nur in der Funktion verfügbar, in der sie definiert wurden. Dadurch können in verschiedenen Funktionen immer wieder Variablen gleichen Namens verwendet werden, ohne dass Konflikte auftreten. \n",
    "- Sie werden  generiert, zu dem Zeitpunkt, zu dem die Funktion aufgerufen wird. Bei Beendigung der Funktion wird der für sie verwendete Speicherplatz wieder frei gegeben. \n",
    "\n",
    "\n",
    "Grundsätzlich heißen Variable, die außerhalb einer Funktion im Skript definiert werden, **globale Variable**. Das Verwenden von globalen Variablen  in Funktionen gilt als schlechter Programmierstil. Daher unterstützt Python nicht die Verwendung globaler Variable, insbesondere kennen Funktionen nicht globale Variable.\n",
    "\n",
    "Durch die Deklaration als *global* können Sie innerhalb einer Funktion eine globale Variable verwenden.\n"
   ]
  },
  {
   "cell_type": "markdown",
   "metadata": {},
   "source": [
    "Grundsätzlich sind alle Variablen in Funktion lokal. Im Beispiel unten sind *x* und *y* lokal."
   ]
  },
  {
   "cell_type": "code",
   "execution_count": null,
   "metadata": {},
   "outputs": [],
   "source": [
    "def quadrat(x):\n",
    "    y = x**2\n",
    "    return(y)\n",
    "\n",
    "print(quadrat(5))\n",
    "print(x)\n",
    "print(y)"
   ]
  },
  {
   "cell_type": "markdown",
   "metadata": {},
   "source": [
    "Es kann globale Variable geben, die denselben Namen wie lokale Variable haben."
   ]
  },
  {
   "cell_type": "code",
   "execution_count": null,
   "metadata": {},
   "outputs": [],
   "source": [
    "x = 9\n",
    "y = 4\n",
    "def quadrat(x):\n",
    "    y = x**2\n",
    "    return(y)\n",
    "\n",
    "print(quadrat(5))\n",
    "print(x)\n",
    "print(y)"
   ]
  },
  {
   "cell_type": "markdown",
   "metadata": {},
   "source": [
    "In Funktionen können auch globale Variable verwendet werden. Diese können dann in der Funktion verändert werden.\n",
    "\n",
    "Da dies leicht zu unerwarteten Änderungen führen kann, sollte die Verwendung von globalen Variablen in Funktionen vermieden werden."
   ]
  },
  {
   "cell_type": "code",
   "execution_count": null,
   "metadata": {},
   "outputs": [],
   "source": [
    "x = 9\n",
    "y = 4\n",
    "def quadrat(x):\n",
    "    global y\n",
    "    y = x**2\n",
    "    return(y)\n",
    "\n",
    "print(quadrat(5))\n",
    "print(x)\n",
    "print(y)"
   ]
  },
  {
   "cell_type": "markdown",
   "metadata": {},
   "source": [
    "**Aufgabe**\n",
    "\n",
    "Geben Sie für den Codeteil unten alle globalen und alle lokalen Variablen an."
   ]
  },
  {
   "cell_type": "code",
   "execution_count": null,
   "metadata": {},
   "outputs": [],
   "source": [
    "def calculate_sum(a, b):\n",
    "    global count\n",
    "    count += 1\n",
    "    s = a + b\n",
    "    return s\n",
    "\n",
    "def calculate_difference(s, t):\n",
    "    global count\n",
    "    count += 1\n",
    "    return s-t\n",
    "\n",
    "count = 0\n",
    "print(calculate_sum(2, 3))\n",
    "print(calculate_sum(5, 5))\n",
    "print(calculate_difference(5, 2))\n",
    "print(calculate_sum(1, 0))\n",
    "print(\"Es gab\", count, \"Funktionsaufrufe.\")"
   ]
  },
  {
   "cell_type": "markdown",
   "metadata": {},
   "source": [
    "Kompliziert werden kann es bei geschachtelten Funktionen."
   ]
  },
  {
   "cell_type": "code",
   "execution_count": null,
   "metadata": {},
   "outputs": [],
   "source": [
    "def func():\n",
    "    city = \"Hamburg\"\n",
    "    def geschachtelteFunc():\n",
    "        global city\n",
    "        city = \"Geneva\"\n",
    "        print(city)\n",
    "    print(\"Vor dem Aufruf der geschachtelte Funktion: \" + city)\n",
    "    print(\"Aufruf der geschachtelte Funktion: \",end='')\n",
    "    geschachtelteFunc()\n",
    "    print(\"Nach dem Aufruf der geschachtelte Funktion: \" + city)\n",
    "    \n",
    "func()\n",
    "print(\"Wert von City in Hauptdatei: \" + city)"
   ]
  },
  {
   "cell_type": "markdown",
   "metadata": {},
   "source": [
    "**Call by reference**\n",
    "\n",
    "Bei der Übergabe als Referenzparameter bleibt jede Veränderung auch nach Verlassen der Funktion erhalten, da keine Kopien des Parameters für die Funktion erzeugt werden. Der Nachteil hierbei besteht darin, dass eine ungewollte Beeinflussung von Hauptprogrammvariablen durch eine Funkton möglich ist.\n",
    "\n",
    "\n",
    "In Python kann nur bei Arrays der Fall  des Call by reference auftreten: Falls Sie Arrayelemente in der Funktion verändern, wirkt sich\n",
    "diese Änderung auch auf das entsprechende Array in dem Programm aus, in dem die Funktion aufgerufen wird."
   ]
  },
  {
   "cell_type": "code",
   "execution_count": null,
   "metadata": {},
   "outputs": [],
   "source": [
    "def beispielCbR(a,index):\n",
    "    b=a # Referenzkopie\n",
    "    b[index]=-1\n",
    "    print('Funktion CbR - Eingabe',a)\n",
    "    print('Funktion CbR - Ausgabe',b)\n",
    "    return(b)\n",
    "    \n",
    "\n",
    "meinArray=[1,2,3,4,5]\n",
    "print('Mein Array ist', meinArray)\n",
    "beispielCbR(meinArray,0)\n",
    "print('Mein Array ist', meinArray)\n",
    "beispielCbR(meinArray,3)\n",
    "print('Mein Array ist', meinArray)\n",
    "    \n"
   ]
  },
  {
   "cell_type": "markdown",
   "metadata": {},
   "source": [
    "Soll ein Array *a* als **Wertparameter (call by value)** in einer Funktion genutzt werden, so kann der Array durch *a[:]* als Kopie an die Funktion übergeben werden."
   ]
  },
  {
   "cell_type": "code",
   "execution_count": null,
   "metadata": {},
   "outputs": [],
   "source": [
    "def beispielCbV(a,index):\n",
    "    b=a[:]  # Wertkopie\n",
    "    b[index]=-1\n",
    "    print('Funktion CbV - Eingabe',a)\n",
    "    print('Funktion CbV - Ausgabe',b)\n",
    "    return(b)\n",
    "    \n",
    "meinArray=[1,2,3,4,5]\n",
    "print('Mein Array ist', meinArray)\n",
    "beispielCbV(meinArray,0)\n",
    "print('Mein Array ist', meinArray)\n",
    "beispielCbV(meinArray[:],3)\n",
    "print('Mein Array ist', meinArray)"
   ]
  },
  {
   "cell_type": "markdown",
   "metadata": {},
   "source": [
    "Hier ein weiteres Beispiel für einen Call-by-Reference über Methoden."
   ]
  },
  {
   "cell_type": "code",
   "execution_count": null,
   "metadata": {},
   "outputs": [],
   "source": [
    "def erweitere_liste(my_list, element):\n",
    "    my_list.append(element)\n",
    "    \n",
    "\n",
    "meine_liste = [1, 2, 3]\n",
    "print(\"Vor der Funktion:\", meine_liste)\n",
    "\n",
    "erweitere_liste(meine_liste,4)\n",
    "print(\"Nach der Funktion:\", meine_liste)"
   ]
  },
  {
   "cell_type": "markdown",
   "metadata": {},
   "source": [
    "**Aufgabe**\n",
    "\n",
    "Schreiben Sie eine Funktion *nimm2* mit einer Liste als Eingabeparameter, die eine neue Liste erzeugt, die sich von der Eingabeliste dadurch unterscheidet, dass jedes Element doppelt vorkommt."
   ]
  },
  {
   "cell_type": "code",
   "execution_count": null,
   "metadata": {},
   "outputs": [],
   "source": []
  },
  {
   "cell_type": "markdown",
   "metadata": {},
   "source": [
    "**Aufgabe**\n",
    "\n",
    "Schreiben Sie eine Funktion *ausfuehren*, die eine Buchstabenfolge *s* (z.B. *hallo*) als Eingabeparameter erhält und die eine eingabeparamterfreie Python-Funktion mit Namen *s* (z.B. *hallo*) ausführt."
   ]
  },
  {
   "cell_type": "code",
   "execution_count": null,
   "metadata": {},
   "outputs": [],
   "source": [
    "\n",
    "    "
   ]
  }
 ],
 "metadata": {
  "kernelspec": {
   "display_name": "Python 3 (ipykernel)",
   "language": "python",
   "name": "python3"
  },
  "language_info": {
   "codemirror_mode": {
    "name": "ipython",
    "version": 3
   },
   "file_extension": ".py",
   "mimetype": "text/x-python",
   "name": "python",
   "nbconvert_exporter": "python",
   "pygments_lexer": "ipython3",
   "version": "3.11.4"
  }
 },
 "nbformat": 4,
 "nbformat_minor": 2
}
